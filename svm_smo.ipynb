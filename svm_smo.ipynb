{
 "cells": [
  {
   "cell_type": "code",
   "execution_count": 1,
   "metadata": {
    "collapsed": true
   },
   "outputs": [
    {
     "name": "stdout",
     "output_type": "stream",
     "text": [
      "0.96\n"
     ]
    }
   ],
   "source": [
    "\n",
    "'''\n",
    "疑惑：alpha2_new=alpha2+ y2*(E1-E2)/n\n",
    "这样的话，评估ａｃｃ为0.88\n",
    "如果是：alpha2_new=alpha2+ y2*(E２-E１)/n\n",
    "就是0.96，不知道为什么\n",
    "alpha2_newunc=self.alphas[j]+self.Y[j]*(self.E[j]-self.E[i])/eta\n",
    "'''"
   ]
  },
  {
   "cell_type": "code",
   "execution_count": 2,
   "metadata": {
    "collapsed": true
   },
   "outputs": [
    {
     "name": "stdout",
     "output_type": "stream",
     "text": [
      "0.96\n"
     ]
    }
   ],
   "source": [
    "import numpy as np\n",
    "import pandas as pd\n",
    "import matplotlib.pyplot as plt\n",
    "%matplotlib inline\n",
    "\n",
    "from sklearn.datasets import load_iris\n",
    "from sklearn.model_selection import train_test_split\n",
    "\n",
    "from collections import Counter\n",
    "import math\n"
   ]
  },
  {
   "cell_type": "code",
   "execution_count": 8,
   "metadata": {
    "collapsed": true
   },
   "outputs": [
    {
     "name": "stdout",
     "output_type": "stream",
     "text": [
      "0.96\n"
     ]
    }
   ],
   "source": [
    "#load data\n",
    "data=load_iris()\n",
    "# print(data)\n",
    "df=pd.DataFrame(data.data,columns=data.feature_names)\n",
    "df['label']=data.target\n",
    "df.columns=['sl','sw','pl','pw','label']\n",
    "\n",
    "# X,y\n",
    "X=np.array(df.iloc[:100,:2])\n",
    "y=np.array(df.iloc[:100,-1])\n",
    "\n",
    "y=np.array([-1 if i==0 else 1 for i in y  ])\n",
    "\n",
    "X_train,X_test,y_train,y_test=train_test_split(X,y,test_size=0.25)\n"
   ]
  },
  {
   "cell_type": "code",
   "execution_count": 29,
   "metadata": {
    "collapsed": true
   },
   "outputs": [
    {
     "name": "stdout",
     "output_type": "stream",
     "text": [
      "0.96\n"
     ]
    }
   ],
   "source": [
    "class SVM():\n",
    "    def __init__(self,max_iter=100,kernel='linear'):\n",
    "        self.max_iter=max_iter\n",
    "        self.kernel=kernel\n",
    "        \n",
    "    def _init_params(self,X_train,y_train):\n",
    "        self.X=X_train\n",
    "        self.Y=y_train\n",
    "        self.b=0.0\n",
    "        self.m=len(self.X)\n",
    "        self.alphas=[1]*self.m\n",
    "        self.C=1.0\n",
    "        self.E=[self._E(i) for i in range(self.m)]\n",
    "        \n",
    "        \n",
    "    def _choose_alpha(self):\n",
    "        indexs=[ i for i in range(self.m) if 0<self.alphas[i]<self.C]\n",
    "        no_kkt=[i for i in range(self.m) if i not in indexs]\n",
    "        indexs.extend(no_kkt)\n",
    "        for i in indexs:\n",
    "            if self._kkt(i):\n",
    "                continue\n",
    "            if self.E[i]>=0:\n",
    "                j=min(range(self.m),key=lambda a:self.E[a])\n",
    "            else:\n",
    "                j=max(range(self.m),key=lambda a:self.E[a])\n",
    "            return i,j\n",
    "    \n",
    "    \n",
    "    def _E(self,i):\n",
    "        return self._g(i)-self.Y[i]\n",
    "    \n",
    "    def _kkt(self,i):\n",
    "        yg=self.Y[i]*self._g(i)\n",
    "        if self.alphas[i]==0:\n",
    "            return yg>=1\n",
    "        elif 0<self.alphas[i]<self.C:\n",
    "            return yg==1\n",
    "        else:\n",
    "            return yg<=1\n",
    "    \n",
    "    def _g(self,j):\n",
    "        return sum([self.alphas[i]*self.Y[i]*self._kernel(self.X[i],self.X[j]) for i in range(self.m)])+self.b\n",
    "    \n",
    "    def _kernel(self,x1,x2):\n",
    "        if self.kernel=='linear':\n",
    "            return np.dot(x1,x2)\n",
    "        elif self.kernel=='poly':\n",
    "            return (np.dot(x1,x2)+1)**2\n",
    "        return 0\n",
    "\n",
    "    \n",
    "    def fit(self,X_train,y_train):\n",
    "        self._init_params(X_train,y_train)\n",
    "        for e in range(self.max_iter): \n",
    "            i,j=self._choose_alpha()\n",
    "            \n",
    "            if self.Y[i]==self.Y[j]:\n",
    "                L=max(0,self.alphas[j]+self.alphas[i]-self.C)\n",
    "                H=min(self.C,self.alphas[j]+self.alphas[i])\n",
    "            else:\n",
    "                L=max(0,self.alphas[j]-self.alphas[i])\n",
    "                H=min(self.C,self.C+self.alphas[j]-self.alphas[i])\n",
    "                \n",
    "            eta=self._kernel(self.X[i],self.X[i])+self._kernel(self.X[j],self.X[j])-2*self._kernel(self.X[i],self.X[j])\n",
    "            if eta<=0:\n",
    "                continue\n",
    "            alpha2_newunc=self.alphas[j]+self.Y[j]*(self.E[j]-self.E[i])/eta\n",
    "            \n",
    "            if alpha2_newunc>H:\n",
    "                alpha2_new=H\n",
    "            elif L<=alpha2_newunc<=H:\n",
    "                alpha2_new=alpha2_newunc\n",
    "            elif alpha2_newunc<L:\n",
    "                alpha2_new=L\n",
    "            \n",
    "            alpha1_new=self.alphas[i]+self.Y[i]*self.Y[j]*(self.alphas[j]-alpha2_new)\n",
    "            \n",
    "            b1=-self.E[i]-self.Y[i]*self._kernel(self.X[i],self.X[i])*(alpha1_new-self.alphas[i])-\\\n",
    "            self.Y[j]*self._kernel(self.X[j],self.X[i])*(alpha2_new-self.alphas[j])+self.b\n",
    "            \n",
    "            b2=-self.E[j]-self.Y[i]*self._kernel(self.X[i],self.X[j])*(alpha1_new-self.alphas[i])-\\\n",
    "            self.Y[j]*self._kernel(self.X[j],self.X[j])*(alpha2_new-self.alphas[j])+self.b\n",
    "            \n",
    "            self.b=(b1+b2)/2\n",
    "            self.alphas[i]=alpha1_new\n",
    "            self.alphas[j]=alpha2_new\n",
    "            \n",
    "            self.E[i]=self._E(i)\n",
    "            self.E[j]=self._E(j)\n",
    "            \n",
    "    def predict(self,xp):\n",
    "        f=sum([self.alphas[i]*self.Y[i]*self._kernel(self.X[i],xp) for i in range(self.m)])+self.b\n",
    "        if f>0:\n",
    "            return 1\n",
    "        else:\n",
    "            return -1\n",
    "        \n",
    "    def score(self,X_test,y_test):\n",
    "        acc=0\n",
    "        for x,y in zip(X_test,y_test):\n",
    "            if self.predict(x)==y:\n",
    "                acc+=1\n",
    "            \n",
    "        return acc/len(y_test)\n",
    "                "
   ]
  },
  {
   "cell_type": "code",
   "execution_count": 30,
   "metadata": {
    "collapsed": true
   },
   "outputs": [
    {
     "name": "stdout",
     "output_type": "stream",
     "text": [
      "0.96\n"
     ]
    }
   ],
   "source": [
    "svm=SVM(max_iter=200)\n",
    "svm.fit(X_train,y_train)\n",
    "print(svm.score(X_test,y_test))"
   ]
  },
  {
   "cell_type": "code",
   "execution_count": 31,
   "metadata": {
    "collapsed": true
   },
   "outputs": [
    {
     "name": "stdout",
     "output_type": "stream",
     "text": [
      "0.96\n"
     ]
    }
   ],
   "source": [
    "\n",
    "from sklearn.svm import LinearSVC\n",
    "svc=LinearSVC()\n",
    "svc.fit(X_train,y_train)\n",
    "print(svc.score(X_test,y_test))"
   ]
  },
  {
   "cell_type": "code",
   "execution_count": null,
   "metadata": {},
   "outputs": [],
   "source": []
  }
 ],
 "metadata": {
  "kernelspec": {
   "display_name": "Python 2",
   "language": "python",
   "name": "python2"
  },
  "language_info": {
   "codemirror_mode": {
    "name": "ipython",
    "version": 2
   },
   "file_extension": ".py",
   "mimetype": "text/x-python",
   "name": "python",
   "nbconvert_exporter": "python",
   "pygments_lexer": "ipython2",
   "version": "2.7.6"
  }
 },
 "nbformat": 4,
 "nbformat_minor": 0
}
