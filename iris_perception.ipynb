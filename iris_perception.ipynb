{
 "cells": [
  {
   "cell_type": "code",
   "execution_count": 11,
   "metadata": {
    "collapsed": true
   },
   "outputs": [],
   "source": [
    "import numpy as np\n",
    "import pandas as pd\n",
    "import matplotlib.pyplot as plt\n",
    "from sklearn.datasets import load_iris\n",
    "%matplotlib inline"
   ]
  },
  {
   "cell_type": "code",
   "execution_count": null,
   "metadata": {
    "collapsed": false
   },
   "outputs": [],
   "source": [
    "\n",
    "'''\n",
    "实现中遇到的问题：\n",
    "０．　数据集：\n",
    "    使用的是iris鸢尾花数据集，ｘ有四种特征，ｙ有三类：０，１，-1，每一类有５０个样本，总共１５０个样本\n",
    "    对于数据集，０和１对应的数据是线性可分的。\n",
    "１．　哇，数据集对应散点图，竟然有些绕不明白：\n",
    "    为便于结果的观察，这里只取两个特征，ｓｌ和ｓｗ，取０和１两个类别\n",
    "    所以画散点图观察是否线性可分时，ｘ对应ｓｌ特征，ｙ对应ｓｗ特征，每个点的类别用点的ｌａｂｅｌ的颜色区分\n",
    "２．　dataframe.iloc的使用：\n",
    "    一日不练百日空啊，已经又忘记这个用法了\n",
    "    官方解释：Purely integer-location based indexing for selection by position\n",
    "    允许输入integer,list,slice,boolean array,callable func\n",
    "    需要记住一点即可：确定好对应哪个ａｘｉｓ，选择什么数据就行\n",
    "    比如df.iloc[:,[0,1,-1]]就是选择所有行，选择第一、二、最后一列的数据\n",
    "３．　wx的计算：\n",
    "    np.dot(w,x)\n",
    "    因为这里的ｗ和ｘ都是一维数组，这里就是计算内积：挨个相乘相加;如果是dot(多维张量，向量)，就是多维的最后一维和向量相乘相加；\n",
    "    如果是dot(多维，多维)就是矩阵相乘，第一个多维的最后一维和第二个多维的倒数第二维进行相乘。\n",
    "４．　模型写好并训练得出ｗ和ｂ后，画图展示这个超平面：\n",
    "    就是画wx+b=0这条线\n",
    "    这里又懵了一会儿，想想对应的ｘ和ｙ轴实际上是样本ｘ的两个特征ｓｌ和ｓｗ，所以对ｓｌ随机选取范围（４，７）内的数后，\n",
    "    就可以根据上面的方程计算ｓｗ，\n",
    "    就是下面的实现：\n",
    "    sw=-(perception.w[0]*sl+perception.b)/perception.w[1]\n",
    "    \n",
    "综上，其实有了ｄａｔａ和ｍｏｄｅｌ这两个框架（比如我参照https://github.com/wzyonggege/statistical-learning-method/blob/master/Perceptron/Iris_perceptron.ipynb\n",
    "代码结构，把ｍｏｄｅｌ类的骨架确定了，最后的ｔｒａｉｎ　ｌｏｏｐ和梯度更新这里真的很简单，重在理解《统计学习方法》里的感知机模型算法）后，其实感知机模型本身部分非常好写，只要理解了感知机模型的内在算法原理。\n",
    "反而是别的数据预处理和结果的展示花了比较多时间，不过这个真的能加深对数据的理解，还是很值。\n",
    "\n",
    "'''"
   ]
  },
  {
   "cell_type": "code",
   "execution_count": null,
   "metadata": {
    "collapsed": false
   },
   "outputs": [],
   "source": [
    "#load data\n",
    "data=load_iris()\n",
    "# print(data)\n",
    "df=pd.DataFrame(data.data,columns=data.feature_names)\n",
    "df['label']=data.target\n",
    "df.columns=['sl','sw','pl','pw','label']\n",
    "\n",
    "# print(df.label.value_counts())\n"
   ]
  },
  {
   "cell_type": "code",
   "execution_count": 37,
   "metadata": {
    "collapsed": true
   },
   "outputs": [
    {
     "data": {
      "text/plain": [
       "<matplotlib.legend.Legend at 0x7f47ece3ad68>"
      ]
     },
     "execution_count": 37,
     "metadata": {},
     "output_type": "execute_result"
    },
    {
     "data": {
      "image/png": "[encoded data removed]",
      "text/plain": [
       "<matplotlib.figure.Figure at 0x7f47ece3aba8>"
      ]
     },
     "metadata": {},
     "output_type": "display_data"
    }
   ],
   "source": [
    "# 画图，看数据分布\n",
    "plt.scatter(df.iloc[:50,0],df.iloc[:50,1],label='0')\n",
    "plt.scatter(df.iloc[50:100,0],df.iloc[50:100,1],label='1')\n",
    "# plt.scatter(df.iloc[:50,2],df.iloc[:50,3],label='0')\n",
    "# plt.scatter(df.iloc[50:100,2],df.iloc[50:100,3],label='1')\n",
    "plt.xlabel('sl')\n",
    "plt.ylabel('sw')\n",
    "plt.legend()"
   ]
  },
  {
   "cell_type": "code",
   "execution_count": 32,
   "metadata": {
    "collapsed": true
   },
   "outputs": [
    {
     "name": "stdout",
     "output_type": "stream",
     "text": [
      "(2,)\n(2, 1)\n"
     ]
    }
   ],
   "source": [
    "# X,y\n",
    "X=np.array(df.iloc[:100,[0,1]])\n",
    "y=np.array(df.iloc[:100,-1])\n",
    "\n",
    "y=np.array([-1 if i==0 else 1 for i in y  ])\n",
    "print(np.shape(X[0]))\n",
    "print(np.shape([[0],[1]]))\n",
    "# print(X,y)"
   ]
  },
  {
   "cell_type": "code",
   "execution_count": 39,
   "metadata": {},
   "outputs": [],
   "source": [
    "# 感知机模型\n",
    "class Model:\n",
    "    def __init__(self,w,b,lr):\n",
    "        self.w=w\n",
    "        self.b=b\n",
    "        self.lr=lr\n",
    "    \n",
    "    def linear_func(self,x):\n",
    "        \n",
    "        return np.dot(x,self.w)+self.b\n",
    "    \n",
    "    def fit(self,X_train,y_train):\n",
    "        has_wrong=True\n",
    "        while has_wrong:\n",
    "            wrong_ct=0\n",
    "            for i in range(0,len(y_train)):\n",
    "                xi=X_train[i]\n",
    "                yi=y_train[i]\n",
    "                if yi * self.linear_func(xi)<=0:\n",
    "                    self.w=self.w+self.lr * yi * xi\n",
    "                    self.b=self.b+self.lr * yi\n",
    "                    wrong_ct+=1\n",
    "            if wrong_ct==0:\n",
    "                has_wrong=False\n",
    "        return 'perception model success!'\n"
   ]
  },
  {
   "cell_type": "code",
   "execution_count": 40,
   "metadata": {},
   "outputs": [
    {
     "name": "stdout",
     "output_type": "stream",
     "text": [
      "(2,)\n"
     ]
    },
    {
     "data": {
      "text/plain": [
       "'perception model success!'"
      ]
     },
     "execution_count": 40,
     "metadata": {},
     "output_type": "execute_result"
    }
   ],
   "source": [
    "# 训练模型，得到ｗ和ｂ\n",
    "# 本例中shape(w)=(2,)即是一个长度为２的一位数组\n",
    "# 样本也是这样的\n",
    "w=np.ones(len(X[0]),dtype=np.float32)\n",
    "print(np.shape(w))\n",
    "b=0\n",
    "lr=1\n",
    "perception = Model(w,b,1)\n",
    "perception.fit(X,y)"
   ]
  },
  {
   "cell_type": "code",
   "execution_count": 43,
   "metadata": {},
   "outputs": [
    {
     "data": {
      "text/plain": [
       "<matplotlib.legend.Legend at 0x7f47ecc61128>"
      ]
     },
     "execution_count": 43,
     "metadata": {},
     "output_type": "execute_result"
    },
    {
     "data": {
      "image/png": "[encoded data removed]",
      "text/plain": [
       "<matplotlib.figure.Figure at 0x7f47ecd2b4a8>"
      ]
     },
     "metadata": {},
     "output_type": "display_data"
    }
   ],
   "source": [
    "# print(perception.w,perception.b)\n",
    "# 画图展示\n",
    "sl=np.linspace(4,7,10)\n",
    "# (w1,w2)*(sl,sw)+b=0\n",
    "# sw=-(w1*sl+b)/w2\n",
    "sw=-(perception.w[0]*sl+perception.b)/perception.w[1]\n",
    "plt.plot(sl,sw)\n",
    "plt.plot(X[:50,0],X[:50,1],'bo',color='blue',label='0')\n",
    "plt.plot(X[50:,0],X[50:,1],'bo',color='orange',label='1')\n",
    "plt.xlabel('sl')\n",
    "plt.ylabel('sw')\n",
    "plt.legend()"
   ]
  },
  {
   "cell_type": "code",
   "execution_count": 45,
   "metadata": {},
   "outputs": [
    {
     "name": "stdout",
     "output_type": "stream",
     "text": [
      "[[  74.6 -127.2]]\n[0.]\n"
     ]
    },
    {
     "name": "stderr",
     "output_type": "stream",
     "text": [
      "/home/lnn/anaconda3/lib/python3.6/site-packages/sklearn/linear_model/stochastic_gradient.py:117: DeprecationWarning: n_iter parameter is deprecated in 0.19 and will be removed in 0.21. Use max_iter and tol instead.\n  DeprecationWarning)\n"
     ]
    }
   ],
   "source": [
    "# scikit-learn perception\n",
    "from sklearn.linear_model import Perceptron\n",
    "per=Perceptron(fit_intercept=False,shuffle=False,n_iter=1000)\n",
    "per.fit(X,y)\n",
    "#权重ｗ\n",
    "print(per.coef_)\n",
    "# 截距ｂ\n",
    "print(per.intercept_)"
   ]
  },
  {
   "cell_type": "code",
   "execution_count": 46,
   "metadata": {},
   "outputs": [
    {
     "data": {
      "text/plain": [
       "<matplotlib.legend.Legend at 0x7f47ea77b5c0>"
      ]
     },
     "execution_count": 46,
     "metadata": {},
     "output_type": "execute_result"
    },
    {
     "data": {
      "image/png": "[encoded data removed]",
      "text/plain": [
       "<matplotlib.figure.Figure at 0x7f47ea7c0dd8>"
      ]
     },
     "metadata": {},
     "output_type": "display_data"
    }
   ],
   "source": [
    "sl=np.linspace(4,8,10)\n",
    "sw=-(per.coef_[0][0]*sl+per.intercept_)/per.coef_[0][1]\n",
    "plt.plot(sl,sw)\n",
    "plt.plot(X[:50,0],X[:50,1],'bo',color='blue',label='0')\n",
    "plt.plot(X[50:,0],X[50:,1],'bo',color='orange',label='1')\n",
    "plt.xlabel('sl')\n",
    "plt.ylabel('sw')\n",
    "plt.legend()\n"
   ]
  },
  {
   "cell_type": "code",
   "execution_count": null,
   "metadata": {},
   "outputs": [],
   "source": []
  }
 ],
 "metadata": {
  "kernelspec": {
   "display_name": "Python 2",
   "language": "python",
   "name": "python2"
  },
  "language_info": {
   "codemirror_mode": {
    "name": "ipython",
    "version": 2
   },
   "file_extension": ".py",
   "mimetype": "text/x-python",
   "name": "python",
   "nbconvert_exporter": "python",
   "pygments_lexer": "ipython2",
   "version": "2.7.6"
  }
 },
 "nbformat": 4,
 "nbformat_minor": 0
}
