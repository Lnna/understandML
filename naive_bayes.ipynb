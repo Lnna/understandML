{
 "cells": [
  {
   "cell_type": "code",
   "execution_count": null,
   "metadata": {
    "collapsed": true
   },
   "outputs": [],
   "source": [
    "import numpy as np\n",
    "import pandas as pd\n",
    "import matplotlib.pyplot as plt\n",
    "%matplotlib inline\n",
    "\n",
    "from sklearn.datasets import load_iris\n",
    "from sklearn.model_selection import train_test_split\n",
    "\n",
    "from collections import Counter\n",
    "import math\n"
   ]
  },
  {
   "cell_type": "code",
   "execution_count": null,
   "metadata": {
    "collapsed": true
   },
   "outputs": [],
   "source": [
    "'''\n",
    "实现中的问题：\n",
    "１．　重在理解朴素贝叶斯法训练时要计算的先验概率和类条件概率\n",
    "２．　这里实现的是高斯贝叶斯，即假设在类确定的情况下，特征值的分布服从高斯分布，伯努利贝叶斯，多项式贝叶斯同理。\n",
    "那么只需要知道该类别下期望和方差，就可以求出某个实例ｘ在该类别下的概率\n",
    "\n",
    "'''\n"
   ]
  },
  {
   "cell_type": "code",
   "execution_count": 15,
   "metadata": {
    "collapsed": true
   },
   "outputs": [],
   "source": [
    "\n",
    "#load data,这里四个特征都用上了，与　感知机和ｋｎｎ有所不同\n",
    "data=load_iris()\n",
    "# print(data)\n",
    "df=pd.DataFrame(data.data,columns=data.feature_names)\n",
    "df['label']=data.target\n",
    "df.columns=['sl','sw','pl','pw','label']\n",
    "\n",
    "# X,y\n",
    "X=np.array(df.iloc[:100,:-1])\n",
    "y=np.array(df.iloc[:100,-1])\n",
    "\n",
    "# y=np.array([-1 if i==0 else 1 for i in y  ])\n",
    "\n",
    "X_train,X_test,y_train,y_test=train_test_split(X,y,test_size=0.3)"
   ]
  },
  {
   "cell_type": "code",
   "execution_count": 24,
   "metadata": {
    "collapsed": true
   },
   "outputs": [],
   "source": [
    "class GaussianNaiveBayes():\n",
    "    def __init__(self):\n",
    "        # 存储每个类别下每个特征的均值和方差\n",
    "        self.model={}\n",
    "        #存储先验概率\n",
    "        self.prior={}\n",
    "        \n",
    "    def gaussian_prob(self,x,u,alpha):\n",
    "        exponent=math.exp(-(math.pow(x-u,2))/(2*math.pow(alpha,2)))\n",
    "        return (1/(alpha*math.sqrt(2*math.pi))*exponent)\n",
    "    \n",
    "    def mean(self,X):\n",
    "        return sum(X)/float(len(X))\n",
    "    \n",
    "    def stdev(self,X):\n",
    "        avg=self.mean(X)\n",
    "        return math.sqrt(sum([math.pow(i-avg,2) for i in X])/float(len(X)))\n",
    "    \n",
    "    def fit(self,X_train,y_train):\n",
    "        #统计每个类别下的样本\n",
    "        labels=list(set(y_train))\n",
    "        data={i:[] for i in labels}\n",
    "        for i in range(len(X_train)):\n",
    "            data[y_train[i]].append(X_train[i])\n",
    "\n",
    "        #计算每个类别下每个特征的均值和方差\n",
    "        for k,v in data.items():\n",
    "            self.model[k]=[(self.mean(i),self.stdev(i)) for i in zip(*v)]\n",
    "        \n",
    "        # 计算先验概率\n",
    "        c=Counter(y_train)\n",
    "        yl=len(y_train)\n",
    "        for k,v in c.items():\n",
    "            # self.prior[k]=v/yl\n",
    "            self.prior[k]=1\n",
    "            \n",
    "    def cal_prob(self,xp):\n",
    "        all_prob={}\n",
    "        for k,v in self.prior.items():\n",
    "            all_prob[k]=v\n",
    "            for i,(mean,stdev) in enumerate(self.model[k]):\n",
    "                all_prob[k]*=self.gaussian_prob(xp[i],mean,stdev)\n",
    "        return all_prob\n",
    "    \n",
    "    def predict(self,xp):\n",
    "        \n",
    "        return sorted(self.cal_prob(xp).items(),key=lambda a:a[1],reverse=True)[0][0]\n",
    "    \n",
    "    def score(self,X_test,y_test):\n",
    "        acc_ct=0\n",
    "        for i in range(len(X_test)):\n",
    "            if self.predict(X_test[i])==y_test[i]:\n",
    "                acc_ct+=1\n",
    "        return acc_ct/float(len(X_test))\n",
    "                "
   ]
  },
  {
   "cell_type": "code",
   "execution_count": 25,
   "metadata": {},
   "outputs": [
    {
     "name": "stdout",
     "output_type": "stream",
     "text": [
      "test point:0\ntest acc score:1.0\n"
     ]
    }
   ],
   "source": [
    "nb=GaussianNaiveBayes()\n",
    "nb.fit(X_train,y_train)\n",
    "print('test point:{}'.format(nb.predict([4.4,  3.2,  1.3,  0.2])))\n",
    "print('test acc score:{}'.format(nb.score(X_test,y_test)))"
   ]
  },
  {
   "cell_type": "code",
   "execution_count": 26,
   "metadata": {},
   "outputs": [
    {
     "name": "stdout",
     "output_type": "stream",
     "text": [
      "sklearn test point:[0]\nsklearn acc score:1.0\n"
     ]
    }
   ],
   "source": [
    "from sklearn.naive_bayes import GaussianNB\n",
    "nb=GaussianNB()\n",
    "nb.fit(X_train,y_train)\n",
    "print('sklearn test point:{}'.format(nb.predict([[4.4,  3.2,  1.3,  0.2]])))\n",
    "print('sklearn acc score:{}'.format(nb.score(X_test,y_test)))\n"
   ]
  },
  {
   "cell_type": "code",
   "execution_count": null,
   "metadata": {},
   "outputs": [],
   "source": []
  }
 ],
 "metadata": {
  "kernelspec": {
   "display_name": "Python 2",
   "language": "python",
   "name": "python2"
  },
  "language_info": {
   "codemirror_mode": {
    "name": "ipython",
    "version": 2
   },
   "file_extension": ".py",
   "mimetype": "text/x-python",
   "name": "python",
   "nbconvert_exporter": "python",
   "pygments_lexer": "ipython2",
   "version": "2.7.6"
  }
 },
 "nbformat": 4,
 "nbformat_minor": 0
}
