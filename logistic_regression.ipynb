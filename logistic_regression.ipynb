{
 "cells": [
  {
   "cell_type": "code",
   "execution_count": null,
   "metadata": {
    "collapsed": true
   },
   "outputs": [],
   "source": [
    "'''\n",
    "实现中的问题：\n",
    "１．　y=w*x+b可转成y=w*x 即y=w0+w1x+w2x+...+wnx\n",
    "    所以这里，要对ｘ样本做处理，相当于多一个特征\n",
    "    [1.0,*z]\n",
    "２．　注意ｌｒ的梯度计算公式：w=w-lr*(f(x)-y)*x_T\n",
    "    这里计算时，要注意维度匹配，每个样本ｘ是一维数组，１Ｄ-array,所以要转置成3*1，就要先把它变成２维\n",
    "    \n",
    "３．　这里收敛的判断是根据最大ｅｐｏｃｈｅｓ，也可以选择一个梯度阈值，小于某个数值，即停止。\n",
    "４．　这里最终test acc没有达到１．０。\n",
    "５．　sklearn中的ｌｒ可以选择优化方法solver=拟牛顿法，随机梯度下降等\n",
    "'''\n"
   ]
  },
  {
   "cell_type": "code",
   "execution_count": 2,
   "metadata": {
    "collapsed": true
   },
   "outputs": [],
   "source": [
    "import numpy as np\n",
    "import pandas as pd\n",
    "import matplotlib.pyplot as plt\n",
    "%matplotlib inline\n",
    "\n",
    "from sklearn.datasets import load_iris\n",
    "from sklearn.model_selection import train_test_split\n",
    "\n",
    "from collections import Counter\n",
    "import math\n"
   ]
  },
  {
   "cell_type": "code",
   "execution_count": 3,
   "metadata": {
    "collapsed": true
   },
   "outputs": [],
   "source": [
    "\n",
    "#load data与感知机所用相同\n",
    "data=load_iris()\n",
    "# print(data)\n",
    "df=pd.DataFrame(data.data,columns=data.feature_names)\n",
    "df['label']=data.target\n",
    "df.columns=['sl','sw','pl','pw','label']\n",
    "\n",
    "# X,y\n",
    "X=np.array(df.iloc[:100,[0,1]])\n",
    "y=np.array(df.iloc[:100,-1])\n",
    "\n",
    "# y=np.array([-1 if i==0 else 1 for i in y  ])\n",
    "\n",
    "X_train,X_test,y_train,y_test=train_test_split(X,y,test_size=0.3)\n"
   ]
  },
  {
   "cell_type": "code",
   "execution_count": 4,
   "metadata": {
    "collapsed": true
   },
   "outputs": [],
   "source": [
    "class LogisticRegression():\n",
    "    def __init__(self,max_iter=200,lr=0.01):\n",
    "        self.max_iter=max_iter\n",
    "        self.lr=lr\n",
    "        \n",
    "    \n",
    "    \n",
    "    def _sigmoid(self,z):\n",
    "        # print(z)\n",
    "        return 1/(1+math.exp(-z))\n",
    "    \n",
    "    def _data_matrix(self,x):\n",
    "        dmat=[]\n",
    "        for i in x:\n",
    "            dmat.append([1.0,*i])\n",
    "            # print(*i)\n",
    "        return dmat\n",
    "    \n",
    "    def fit(self,X_train,y_train):\n",
    "        X_train=self._data_matrix(X_train)\n",
    "        self.w=np.zeros((len(X_train[0]),1),dtype=np.float32)\n",
    "        for e in range(self.max_iter):\n",
    "            for i in range(len(X_train)):\n",
    "                self.w-=self.lr*(self._sigmoid(np.dot(X_train[i],self.w))-float(y_train[i]))*\\\n",
    "                np.transpose([X_train[i]])\n",
    "        print('logistic regression train at lr {}'.format(self.lr))\n",
    "                \n",
    "    def score(self,X_test,y_test):\n",
    "        \n",
    "        X_test=self._data_matrix(X_test)\n",
    "        acc=0\n",
    "        for i in range(len(X_test)):\n",
    "            # print(np.dot(X_test[i],self.w))\n",
    "            if np.dot(X_test[i],self.w)>0 and y_test[i]==1 or (np.dot(X_test[i],self.w)<0 and y_test[i]==0):\n",
    "                acc+=1\n",
    "            # if self._sigmoid(np.dot(X_test[i],self.w))>0.5 and y_test[i]==1\\\n",
    "            #     or (self._sigmoid(np.dot(X_test[i],self.w))<=0.5 and y_test[i]==0):\n",
    "            #     acc+=1\n",
    "        # print(acc)\n",
    "        acc=acc/len(X_test)\n",
    "        return acc\n",
    "            \n",
    "    def predict(self,xp):\n",
    "        xp=self._data_matrix(xp)\n",
    "        if self._sigmoid(np.dot(xp,self.w))>0.5:\n",
    "            return 1\n",
    "        else:\n",
    "            return 0\n"
   ]
  },
  {
   "cell_type": "code",
   "execution_count": 5,
   "metadata": {
    "collapsed": true
   },
   "outputs": [
    {
     "name": "stdout",
     "output_type": "stream",
     "text": [
      "logistic regression train at lr 0.01\n[[-0.9925121]\n [ 3.408333 ]\n [-5.6968565]]\n1.0\n"
     ]
    }
   ],
   "source": [
    "\n",
    "lr=LogisticRegression()\n",
    "lr.fit(X_train,y_train)\n",
    "print(lr.w)\n",
    "acc=lr.score(X_test,y_test)\n",
    "print(acc)\n"
   ]
  },
  {
   "cell_type": "code",
   "execution_count": 14,
   "metadata": {
    "collapsed": true
   },
   "outputs": [
    {
     "data": {
      "text/plain": [
       "<matplotlib.legend.Legend at 0x7f22f419aa58>"
      ]
     },
     "execution_count": 14,
     "metadata": {},
     "output_type": "execute_result"
    },
    {
     "data": {
      "image/png": "[encoded data removed]",
      "text/plain": [
       "<matplotlib.figure.Figure at 0x7f22f44771d0>"
      ]
     },
     "metadata": {},
     "output_type": "display_data"
    }
   ],
   "source": [
    "x_ponits = np.arange(4, 8)\n",
    "y_ = -(lr.w[1]*x_ponits + lr.w[0])/lr.w[2]\n",
    "plt.plot(x_ponits, y_)\n",
    "\n",
    "#lr_clf.show_graph()\n",
    "plt.scatter(X[:50,0],X[:50,1], label='0')\n",
    "plt.scatter(X[50:,0],X[50:,1], label='1')\n",
    "plt.legend()\n"
   ]
  },
  {
   "cell_type": "code",
   "execution_count": 21,
   "metadata": {},
   "outputs": [
    {
     "name": "stdout",
     "output_type": "stream",
     "text": [
      "0.9666666666666667\n"
     ]
    }
   ],
   "source": [
    "from sklearn.linear_model import LogisticRegression\n",
    "lr=LogisticRegression(max_iter=200)\n",
    "lr.fit(X_train,y_train)\n",
    "acc=lr.score(X_test,y_test)\n",
    "print(acc)"
   ]
  },
  {
   "cell_type": "code",
   "execution_count": null,
   "metadata": {},
   "outputs": [],
   "source": []
  }
 ],
 "metadata": {
  "kernelspec": {
   "display_name": "Python 2",
   "language": "python",
   "name": "python2"
  },
  "language_info": {
   "codemirror_mode": {
    "name": "ipython",
    "version": 2
   },
   "file_extension": ".py",
   "mimetype": "text/x-python",
   "name": "python",
   "nbconvert_exporter": "python",
   "pygments_lexer": "ipython2",
   "version": "2.7.6"
  }
 },
 "nbformat": 4,
 "nbformat_minor": 0
}
