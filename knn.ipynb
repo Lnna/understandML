{
 "cells": [
  {
   "cell_type": "code",
   "execution_count": null,
   "metadata": {
    "collapsed": true
   },
   "outputs": [],
   "source": [
    "import numpy as np\n",
    "import pandas as pd\n",
    "import math\n",
    "from collections import Counter\n",
    "import matplotlib.pyplot as plt\n",
    "from sklearn.datasets import load_iris\n",
    "from sklearn.model_selection import train_test_split\n",
    "%matplotlib inline\n"
   ]
  },
  {
   "cell_type": "code",
   "execution_count": null,
   "metadata": {
    "collapsed": true
   },
   "outputs": [],
   "source": [
    "'''\n",
    "本次实现中可能有的问题：\n",
    "１．　距离计算：\n",
    "其实只要知道距离度量的公式，然后对math库有基本的了解，知道指数函数，绝对值函数就没问题\n",
    "这里提供了两种方式，一种是手写python，实现距离计算\n",
    "另一种是使用numpy.linalg.norm()函数，这个是计算矩阵或向量的范数的，第一个参数是要计算的两个数的差值，第二个参数是距离度量方式的选择\n",
    "\n",
    "２．　这里近邻搜索使用的暴力线性扫描，因为数据不大，看不出慢。\n",
    "在sklearn调用knn时，使用了《统计学习方法》中提到的kd-tree.\n",
    "\n",
    "３． 因为Ｋｎｎ没有显式地学习过程，预测的过程就是学习的过程，所以训练预测都在predict方法中了。\n",
    "\n",
    "４．　这里将数据集分成了训练集和测试集，并实现了ｓｃｏｒｅ方法，计算测试集上的accuracy.\n",
    "\n",
    "总的来说，只要完全搞懂《统计学习方法》中的理论，实现起来还是比较愉快的，\n",
    "以后有机会好好实现下kd-tree.\n",
    "'''"
   ]
  },
  {
   "cell_type": "code",
   "execution_count": 11,
   "metadata": {
    "collapsed": true
   },
   "outputs": [],
   "source": [
    "#load data与感知机所用相同\n",
    "data=load_iris()\n",
    "# print(data)\n",
    "df=pd.DataFrame(data.data,columns=data.feature_names)\n",
    "df['label']=data.target\n",
    "df.columns=['sl','sw','pl','pw','label']\n",
    "\n",
    "# X,y\n",
    "X=np.array(df.iloc[:100,[0,1]])\n",
    "y=np.array(df.iloc[:100,-1])\n",
    "\n",
    "y=np.array([-1 if i==0 else 1 for i in y  ])\n",
    "\n",
    "X_train,X_test,y_train,y_test=train_test_split(X,y)"
   ]
  },
  {
   "cell_type": "code",
   "execution_count": 19,
   "metadata": {
    "collapsed": true
   },
   "outputs": [],
   "source": [
    "class KNN():\n",
    "    def __init__(self,X_train,y_train,k=3,p=2):\n",
    "        self.k=k\n",
    "        self.p=p\n",
    "        self.X_train=X_train\n",
    "        self.y_train=y_train\n",
    "    def _distant(self,p,x1,x2):\n",
    "        if p==1 or p==2:\n",
    "            return math.pow(sum([math.pow(abs(i-j),p)  for i,j in zip(x1,x2)]),1/p)\n",
    "        if p==math.inf:\n",
    "            return max([abs(i-j) for i,j in zip(x1,x2)])\n",
    "    def predict(self,xp):\n",
    "        # 此处近邻搜索使用暴力搜索，线性扫描\n",
    "        knn_list=[]\n",
    "        for i in range(0,len(self.X_train)):\n",
    "            if len(knn_list)<self.k:\n",
    "                # knn_list.append((i,self._distant(self.p,xp,self.X_train[i])))\n",
    "                knn_list.append((i,np.linalg.norm(abs(X_train[i]-xp),ord=self.p)))\n",
    "            else:\n",
    "                maxd=max(knn_list,key=lambda a:a[1])\n",
    "                # dist=self._distant(self.p,xp,self.X_train[i])\n",
    "                dist=np.linalg.norm(abs(X_train[i]-xp),ord=self.p)\n",
    "                if dist<maxd[1]:\n",
    "                    knn_list[knn_list.index(maxd)]=(i,dist)\n",
    "        \n",
    "        c=sorted(Counter([self.y_train[i[0]] for i in knn_list]),reverse=True)\n",
    "        return c[0]\n",
    "\n",
    "    def score(self,X_test,y_test):\n",
    "        acc=0\n",
    "        for i in range(len(X_test)):\n",
    "            if y_test[i]==self.predict(X_test[i]):\n",
    "                acc+=1\n",
    "        return acc/len(y_test)"
   ]
  },
  {
   "cell_type": "code",
   "execution_count": 23,
   "metadata": {
    "collapsed": true
   },
   "outputs": [
    {
     "name": "stdout",
     "output_type": "stream",
     "text": [
      "Test Point:1\ntest acc score:1.0\n"
     ]
    },
    {
     "data": {
      "image/png": "[encoded data removed]",
      "text/plain": [
       "<matplotlib.figure.Figure at 0x7f4a3cf4e358>"
      ]
     },
     "metadata": {},
     "output_type": "display_data"
    }
   ],
   "source": [
    "test_points=[5.0,2.0]\n",
    "knn=KNN(X_train,y_train)\n",
    "print('Test Point:{}'.format(knn.predict(test_points)))\n",
    "\n",
    "plt.scatter(df.iloc[:50,0],df.iloc[:50,1],label='0')\n",
    "plt.scatter(df.iloc[50:100,0],df.iloc[50:100,1],label='1')\n",
    "plt.plot(test_points[0],test_points[1],'bo',label='test_point')\n",
    "plt.xlabel('sl')\n",
    "plt.ylabel('sw')\n",
    "plt.legend()\n",
    "\n",
    "print('test acc score:{}'.format(knn.score(X_test,y_test)))\n"
   ]
  },
  {
   "cell_type": "code",
   "execution_count": 22,
   "metadata": {},
   "outputs": [
    {
     "name": "stdout",
     "output_type": "stream",
     "text": [
      "knn from sklearn test points:[1]\nknn from sklearn test acc score:1.0\n"
     ]
    }
   ],
   "source": [
    "# sklearn KNeighborsClassifier\n",
    "from sklearn.neighbors import KNeighborsClassifier\n",
    "# 此处近邻搜索算法使用kd_tree\n",
    "knn=KNeighborsClassifier(algorithm='kd_tree')\n",
    "knn.fit(X_train,y_train)\n",
    "print('knn from sklearn test points:{}'.format(knn.predict([[6.0,3.0]])))\n",
    "print('knn from sklearn test acc score:{}'.format(knn.score(X_test,y_test)))"
   ]
  },
  {
   "cell_type": "code",
   "execution_count": null,
   "metadata": {},
   "outputs": [],
   "source": []
  }
 ],
 "metadata": {
  "kernelspec": {
   "display_name": "Python 2",
   "language": "python",
   "name": "python2"
  },
  "language_info": {
   "codemirror_mode": {
    "name": "ipython",
    "version": 2
   },
   "file_extension": ".py",
   "mimetype": "text/x-python",
   "name": "python",
   "nbconvert_exporter": "python",
   "pygments_lexer": "ipython2",
   "version": "2.7.6"
  }
 },
 "nbformat": 4,
 "nbformat_minor": 0
}
