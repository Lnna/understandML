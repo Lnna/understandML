{
 "cells": [
  {
   "cell_type": "code",
   "execution_count": 19,
   "metadata": {
    "collapsed": true
   },
   "outputs": [
    {
     "data": {
      "text/plain": [
       "'\\n这个ＥＭ好难搞啊，看不懂看不懂，有机会把高斯混合做下，只是实现的话，还是很容易的。。。\\n三硬币模型\\n问题：\\n注意m步迭代计算ｐｉ，ｐ，ｑ时，用的都是上一次迭代的值。\\n'"
      ]
     },
     "execution_count": 19,
     "metadata": {},
     "output_type": "execute_result"
    }
   ],
   "source": [
    "'''\n",
    "这个ＥＭ好难搞啊，看不懂看不懂，有机会把高斯混合做下，只是实现的话，还是很容易的。。。\n",
    "三硬币模型\n",
    "问题：\n",
    "注意m步迭代计算ｐｉ，ｐ，ｑ时，用的都是上一次迭代的值。\n",
    "'''\n"
   ]
  },
  {
   "cell_type": "code",
   "execution_count": 20,
   "metadata": {
    "collapsed": true
   },
   "outputs": [],
   "source": [
    "import numpy as np\n",
    "import math\n",
    "class EM():\n",
    "    def __init__(self,prob):\n",
    "        self.prob_pi,self.prob_p,self.prob_q=prob\n",
    "    \n",
    "    def e_step(self,yi):\n",
    "        #　观测数据来自掷硬币Ｂ的概率\n",
    "        a=self.prob_pi*math.pow(self.prob_p,yi)*math.pow(1-self.prob_p,1-yi)\n",
    "        b=(1-self.prob_pi)*math.pow(self.prob_q,yi)*math.pow((1-self.prob_q),1-yi)\n",
    "        return a/(a+b)\n",
    "    \n",
    "    def fit(self,data):\n",
    "        l=len(data)\n",
    "        for i in range(l):\n",
    "            print('init prob:{},{},{}'.format(self.prob_pi,self.prob_p,self.prob_q))\n",
    "            yield \n",
    "            pi=1/l *sum([self.e_step(yi) for yi in data])\n",
    "            p=sum([self.e_step(yi)*yi for yi in data])/sum([self.e_step(yi) for yi in data])\n",
    "            q=sum([(1-self.e_step(yi))*yi for yi in data])/sum([(1-self.e_step(yi)) for yi in data])\n",
    "            print('{}/{}  pro_a:{:.3f}, pro_b:{:.3f}, pro_c:{:.3f}'.format(i+1, l, self.prob_pi, self.prob_p, self.prob_q))\n",
    "            self.prob_pi=pi\n",
    "            self.prob_p=p\n",
    "            self.prob_q=q\n",
    "            \n",
    "    \n",
    "        \n",
    "        \n"
   ]
  },
  {
   "cell_type": "code",
   "execution_count": 21,
   "metadata": {
    "collapsed": true
   },
   "outputs": [],
   "source": [
    "data=[1,1,0,1,0,0,1,0,1,1]\n",
    "coin=EM([0.5,0.5,0.5])\n",
    "iter=coin.fit(data)\n"
   ]
  },
  {
   "cell_type": "code",
   "execution_count": 22,
   "metadata": {
    "collapsed": false
   },
   "outputs": [
    {
     "name": "stdout",
     "output_type": "stream",
     "text": [
      "init prob:0.5,0.5,0.5\n1/10  pro_a:0.500, pro_b:0.500, pro_c:0.500\ninit prob:0.5,0.6,0.6\n2/10  pro_a:0.500, pro_b:0.600, pro_c:0.600\ninit prob:0.5,0.6,0.6\n3/10  pro_a:0.500, pro_b:0.600, pro_c:0.600\ninit prob:0.5,0.6,0.6\n4/10  pro_a:0.500, pro_b:0.600, pro_c:0.600\ninit prob:0.5,0.6,0.6\n5/10  pro_a:0.500, pro_b:0.600, pro_c:0.600\ninit prob:0.5,0.6,0.6\n6/10  pro_a:0.500, pro_b:0.600, pro_c:0.600\ninit prob:0.5,0.6,0.6\n7/10  pro_a:0.500, pro_b:0.600, pro_c:0.600\ninit prob:0.5,0.6,0.6\n8/10  pro_a:0.500, pro_b:0.600, pro_c:0.600\ninit prob:0.5,0.6,0.6\n9/10  pro_a:0.500, pro_b:0.600, pro_c:0.600\ninit prob:0.5,0.6,0.6\n10/10  pro_a:0.500, pro_b:0.600, pro_c:0.600\n"
     ]
    }
   ],
   "source": [
    "for i in iter:\n",
    "    continue"
   ]
  },
  {
   "cell_type": "code",
   "execution_count": 7,
   "metadata": {},
   "outputs": [
    {
     "ename": "StopIteration",
     "evalue": "",
     "traceback": [
      "\u001b[0;31m---------------------------------------------------------------------------\u001b[0m",
      "\u001b[0;31mStopIteration\u001b[0m                             Traceback (most recent call last)",
      "\u001b[0;32m<ipython-input-7-1a5d8c630f55>\u001b[0m in \u001b[0;36m<module>\u001b[0;34m()\u001b[0m\n\u001b[0;32m----> 1\u001b[0;31m \u001b[0mnext\u001b[0m\u001b[0;34m(\u001b[0m\u001b[0miter\u001b[0m\u001b[0;34m)\u001b[0m\u001b[0;34m\u001b[0m\u001b[0m\n\u001b[0m",
      "\u001b[0;31mStopIteration\u001b[0m: "
     ],
     "output_type": "error"
    }
   ],
   "source": [
    ""
   ]
  },
  {
   "cell_type": "code",
   "execution_count": null,
   "metadata": {},
   "outputs": [],
   "source": []
  }
 ],
 "metadata": {
  "kernelspec": {
   "display_name": "Python 2",
   "language": "python",
   "name": "python2"
  },
  "language_info": {
   "codemirror_mode": {
    "name": "ipython",
    "version": 2
   },
   "file_extension": ".py",
   "mimetype": "text/x-python",
   "name": "python",
   "nbconvert_exporter": "python",
   "pygments_lexer": "ipython2",
   "version": "2.7.6"
  }
 },
 "nbformat": 4,
 "nbformat_minor": 0
}
