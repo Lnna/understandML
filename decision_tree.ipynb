{
 "cells": [
  {
   "cell_type": "code",
   "execution_count": null,
   "metadata": {
    "collapsed": true
   },
   "outputs": [],
   "source": [
    "'''\n",
    "实现之前的疑惑解答：\n",
    "１．　决策树的生成思路：首先这是一个树的构建，所以要先创建一个树的数据结构，每个结点如果是叶子结点，存储类别，非叶结点，存储当前选取的最大特征，\n",
    "及左右子结点。无需在结点中存储具体的训练样本\n",
    "２．　决策树的构建过程就是学习过程，剪枝过程是模型选择过程，预测就是对决策树的搜索，直到符合条件的叶子结点，返回类别\n",
    "\n",
    "实现中的问题\n",
    "１．　实现的ID3生成算法，即依据信息增益选择最优特征\n",
    "    这个算法中，直接对每个特征值构建节点划分子集(而不是特征的某一范围值)，所以对于未在训练集中出现的值，无法预测，报错keyError\n",
    "\n",
    "sklearn dt:\n",
    "１）输入必须是数值型\n",
    "２）构建的是二叉树，依据每个特征是否属于某个范围划分子集\n",
    "３）因此，对于在训练集未出现过的值，也可以进行一定的预测\n",
    "\n",
    "决策树可视化：\n",
    "安装graphviz: sudo apt install graphviz\n",
    "from sklearn.tree import export_graphviz\n",
    "import pydotplus\n",
    "\n",
    "pic=export_graphviz(dtc,out_file=None)#dtc 决策树模型\n",
    "graph=pydotplus.graph_from_dot_data(pic)\n",
    "Image(graph.create_png())#显示图像\n",
    "'''\n"
   ]
  },
  {
   "cell_type": "code",
   "execution_count": 2,
   "metadata": {
    "collapsed": true
   },
   "outputs": [],
   "source": [
    "import sys\n",
    "import numpy as np\n",
    "import pandas as pd\n",
    "import matplotlib.pyplot as plt\n",
    "%matplotlib inline\n",
    "\n",
    "from sklearn.datasets import load_iris\n",
    "from sklearn.model_selection import train_test_split\n",
    "\n",
    "from collections import Counter\n",
    "import math\n",
    "\n",
    "sys.setrecursionlimit(10000000)# 针对maximum recursion depth exceeded in comparison的处理，但实际上这么小的数据量，出现这种\n",
    "#问题，是因为程序错误，在选择特征后，没有将该特征从预选中剔除"
   ]
  },
  {
   "cell_type": "code",
   "execution_count": 3,
   "metadata": {
    "collapsed": true
   },
   "outputs": [
    {
     "name": "stdout",
     "output_type": "stream",
     "text": [
      "[['青年' '否' '否' '一般']\n ['青年' '否' '否' '好']\n ['青年' '是' '否' '好']\n ['青年' '是' '是' '一般']\n ['青年' '否' '否' '一般']\n ['中年' '否' '否' '一般']\n ['中年' '否' '否' '好']\n ['中年' '是' '是' '好']\n ['中年' '否' '是' '非常好']\n ['中年' '否' '是' '非常好']\n ['老年' '否' '是' '非常好']\n ['老年' '否' '是' '好']\n ['老年' '是' '否' '好']\n ['老年' '是' '否' '非常好']\n ['老年' '否' '否' '一般']] ['否' '否' '是' '是' '否' '否' '否' '是' '是' '是' '是' '是' '是' '是' '否']\n"
     ]
    }
   ],
   "source": [
    "# 书上题目5.1\n",
    "def create_data():\n",
    "    datasets = [['青年', '否', '否', '一般', '否'],\n",
    "               ['青年', '否', '否', '好', '否'],\n",
    "               ['青年', '是', '否', '好', '是'],\n",
    "               ['青年', '是', '是', '一般', '是'],\n",
    "               ['青年', '否', '否', '一般', '否'],\n",
    "               ['中年', '否', '否', '一般', '否'],\n",
    "               ['中年', '否', '否', '好', '否'],\n",
    "               ['中年', '是', '是', '好', '是'],\n",
    "               ['中年', '否', '是', '非常好', '是'],\n",
    "               ['中年', '否', '是', '非常好', '是'],\n",
    "               ['老年', '否', '是', '非常好', '是'],\n",
    "               ['老年', '否', '是', '好', '是'],\n",
    "               ['老年', '是', '否', '好', '是'],\n",
    "               ['老年', '是', '否', '非常好', '是'],\n",
    "               ['老年', '否', '否', '一般', '否'],\n",
    "               ]\n",
    "    labels = [u'年龄', u'有工作', u'有自己的房子', u'信贷情况', u'类别']\n",
    "    # 返回数据集和每个维度的名称\n",
    "    return datasets, labels\n",
    "\n",
    "# def create_data():\n",
    "#     datasets = [[0, 1, 1, 1, 1],\n",
    "#                [0, 1, 1, 2, 1],\n",
    "#                [0, 0, 1, 2, 1],\n",
    "#                [0, 0, 0, 1, 0],\n",
    "#                 [0, 1, 0, 1, 0],\n",
    "#                ]\n",
    "#     labels = [u'年龄', u'有工作', u'有自己的房子', u'信贷情况', u'类别']\n",
    "#     return datasets,labels\n",
    "datasets,labels=create_data()\n",
    "X_train=np.array(datasets)[:,:-1]#ｔｕｐｌｅ形式的对每个ａｘｉｓ的索引，要求是np.array类型\n",
    "y_train=np.array(datasets)[:,-1]\n",
    "print(X_train,y_train)"
   ]
  },
  {
   "cell_type": "code",
   "execution_count": 4,
   "metadata": {
    "collapsed": true
   },
   "outputs": [],
   "source": [
    "class TreeNode():\n",
    "    def __init__(self,label=None,feature=None):\n",
    "        self.label=label\n",
    "        self.feature=feature\n",
    "        self.children={}\n",
    "        \n",
    "    def add_children(self,value,node):\n",
    "        self.children[value]=node\n"
   ]
  },
  {
   "cell_type": "code",
   "execution_count": 7,
   "metadata": {
    "collapsed": true
   },
   "outputs": [],
   "source": [
    "class DecisionTree():\n",
    "    '''\n",
    "    ID3 ALGO\n",
    "    '''\n",
    "    def __init__(self,alpha):\n",
    "        self.tree=None\n",
    "        self.alpha=alpha\n",
    "        \n",
    "        \n",
    "    def _entropy(self,p_list):\n",
    "        return -(sum([p*math.log(p,2) for p in p_list]))\n",
    "    \n",
    "    def _condition_entropy(self,x_probs,y_probs_byx):\n",
    "        return -(sum([x_probs[i]*self._entropy(y_probs_byx[i]) for i in range(len(x_probs))]))\n",
    "    \n",
    "    def _info_gains(self):\n",
    "        pass\n",
    "        \n",
    "        \n",
    "    def _tree_gen(self,X_train,y_train,feature_flg:list):\n",
    "        # labels=list(set(y_train))\n",
    "        c=Counter(y_train)\n",
    "        if len(c)==1:\n",
    "            return TreeNode(label=list(c.items())[0][0])\n",
    "             \n",
    "        if not any(feature_flg):\n",
    "            return TreeNode(label=sorted(c.items(),key=lambda a:a[1],reverse=True)[0][0])\n",
    "        #计算信息增益　H(D)-H(D|A)\n",
    "        l=len(y_train)\n",
    "        gains=[]\n",
    "        yp_list=[v/l for k,v in c.items()]\n",
    "        for fi,a in enumerate(zip(*X_train)):\n",
    "            if not feature_flg[fi]:\n",
    "                continue\n",
    "            per_feature_labels={}\n",
    "            for i,f in enumerate(a):\n",
    "                if per_feature_labels.get(f,[])==[]:\n",
    "                    per_feature_labels[f]=[]\n",
    "                per_feature_labels[f].append(y_train[i])\n",
    "            x_probs=[]\n",
    "            y_probs_byx=[]\n",
    "            for k,v in per_feature_labels.items():\n",
    "                lv=len(v)\n",
    "                x_probs.append(lv/l)\n",
    "                y_probs_byx.append([i[1]/lv for i in Counter(v).items()])\n",
    "            gains.append((fi,self._entropy(yp_list)-self._condition_entropy(x_probs,y_probs_byx)))\n",
    "        \n",
    "        max_feature=sorted(gains,key=lambda a:a[1],reverse=True)[0]\n",
    "        if max_feature[1]<self.alpha:\n",
    "            return TreeNode(label=sorted(c.items(),key=lambda a:a[1],reverse=True)[0][0])\n",
    "             \n",
    "        \n",
    "        node_tree=TreeNode(feature=max_feature[0])\n",
    "        feature_flg[max_feature[0]]=False\n",
    "        # 切分子集\n",
    "        sub_X={}\n",
    "        sub_y={}\n",
    "        for i in range(len(X_train)):\n",
    "            k=X_train[i][max_feature[0]]\n",
    "            if sub_X.get(k,[])==[]:\n",
    "                sub_X[k]=[]\n",
    "                sub_y[k]=[]\n",
    "                \n",
    "            sub_X[k].append(X_train[i])\n",
    "            sub_y[k].append(y_train[i])\n",
    "\n",
    "        for k,v in sub_X.items():\n",
    "            feature_flg_copy=feature_flg.copy()\n",
    "            node_tree.add_children(k,self._tree_gen(v,sub_y[k],feature_flg_copy))\n",
    "        return node_tree\n",
    "        \n",
    "        \n",
    "    def fit(self,X_train,y_train):\n",
    "        assert len(X_train)>0 and len(X_train)==len(y_train)\n",
    "        self.tree=self._tree_gen(X_train,y_train,[True]*len(X_train[0]))\n",
    "            \n",
    "                \n",
    "    \n",
    "    def predict(self,x):\n",
    "        return self.__dfs(self.tree,x)\n",
    "        \n",
    "    def __dfs(self,t:TreeNode,x):\n",
    "        if t.label is not None:\n",
    "            return t.label\n",
    "        \n",
    "        return self.__dfs(t.children[x[t.feature]],x)\n",
    "            \n",
    "    \n"
   ]
  },
  {
   "cell_type": "code",
   "execution_count": null,
   "metadata": {
    "collapsed": true
   },
   "outputs": [
    {
     "name": "stdout",
     "output_type": "stream",
     "text": [
      "Test Point:否\n"
     ]
    }
   ],
   "source": [
    "dt=DecisionTree(alpha=0)\n",
    "dt.fit(X_train,y_train)\n",
    "print(\"Test Point:{}\".format(dt.predict(['青年', '否', '否', '一般'])))"
   ]
  },
  {
   "cell_type": "code",
   "execution_count": 17,
   "metadata": {},
   "outputs": [
    {
     "name": "stdout",
     "output_type": "stream",
     "text": [
      "sklearn test:[1]\n"
     ]
    },
    {
     "data": {
      "image/png": "[encoded data removed]",
      "text/plain": [
       "<IPython.core.display.Image object>"
      ]
     },
     "metadata": {},
     "output_type": "display_data"
    }
   ],
   "source": [
    "\n",
    "from sklearn.tree import DecisionTreeClassifier\n",
    "from IPython.display import Image\n",
    "dtc=DecisionTreeClassifier(criterion=\"entropy\")\n",
    "dtc.fit(X_train,y_train)\n",
    "\n",
    "print(\"sklearn test:{}\".format(dtc.predict([[5, 3, 3, 9]])))\n",
    "\n",
    "from sklearn.tree import export_graphviz\n",
    "import pydotplus\n",
    "\n",
    "pic=export_graphviz(dtc,out_file=None)\n",
    "graph=pydotplus.graph_from_dot_data(pic)\n",
    "Image(graph.create_png())"
   ]
  },
  {
   "cell_type": "code",
   "execution_count": null,
   "metadata": {},
   "outputs": [],
   "source": []
  }
 ],
 "metadata": {
  "kernelspec": {
   "display_name": "Python 2",
   "language": "python",
   "name": "python2"
  },
  "language_info": {
   "codemirror_mode": {
    "name": "ipython",
    "version": 2
   },
   "file_extension": ".py",
   "mimetype": "text/x-python",
   "name": "python",
   "nbconvert_exporter": "python",
   "pygments_lexer": "ipython2",
   "version": "2.7.6"
  }
 },
 "nbformat": 4,
 "nbformat_minor": 0
}
