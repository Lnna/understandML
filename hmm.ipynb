{
 "cells": [
  {
   "cell_type": "code",
   "execution_count": 24,
   "metadata": {
    "collapsed": true
   },
   "outputs": [],
   "source": [
    "import numpy as np\n",
    "\n",
    "states=['healthy','fever']\n",
    "observations=['normal','cold','dizzy']\n",
    "pi=np.array([0.6,0.4])\n",
    "A=np.array([[0.7,0.3],[0.4,0.6]])\n",
    "B=np.array([[0.5,0.4,0.1],[0.1,0.3,0.6]])\n",
    "#模拟状态序列和观测序列\n",
    "s=np.array([0,0,1,1,2,1,2,2,2,0])\n",
    "o=np.array([0,0,0,0,1,1,1,1,1,0])"
   ]
  },
  {
   "cell_type": "code",
   "execution_count": 29,
   "metadata": {
    "collapsed": true
   },
   "outputs": [
    {
     "name": "stdout",
     "output_type": "stream",
     "text": [
      "0.2\n"
     ]
    }
   ],
   "source": [
    "class HMM():\n",
    "    def __init__(self,A,B,pi):\n",
    "        self.A=A\n",
    "        self.B=B\n",
    "        self.pi=pi\n",
    "        \n",
    "    def _forward(self,obs_seq):\n",
    "        N=self.A.shape[0]\n",
    "        T=len(obs_seq)\n",
    "        \n",
    "        #F保存前向概率矩阵:使用矩阵乘法替代循环\n",
    "        F=np.zeros((N,T))\n",
    "        F[:,0]=np.dot(self.pi,self.B[:,obs_seq[0]])\n",
    "        \n",
    "        for t in range(1,T-1):\n",
    "            for i in range(N):\n",
    "                F[i,t]=np.dot(F[:,t-1],self.A[:,i])*self.B[i,obs_seq[t]]\n",
    "        return F\n",
    "    \n",
    "    def _backward(self,obs_seq):\n",
    "        N=self.A.shape[0]\n",
    "        T=len(obs_seq)\n",
    "        X=np.zeros((N,T))\n",
    "        X[:,-1]=1\n",
    "        for t in reversed(range(T-1)):\n",
    "            for i in range(N):\n",
    "                X[i,t]=sum(self.A[i,:]*self.B[:,obs_seq[t+1]]*X[:,t+1])\n",
    "        return X\n",
    "    \n",
    "    def bw_unsuper(self,observations, criterion=0.05):\n",
    "        n_states = self.A.shape[0]\n",
    "        n_samples = len(observations)\n",
    "     \n",
    "        done = False\n",
    "        while not done:\n",
    "            # alpha_t(i) = P(O_1 O_2 ... O_t, q_t = S_i | hmm)\n",
    "            # Initialize alpha\n",
    "            alpha = self._forward(observations)\n",
    "     \n",
    "            # beta_t(i) = P(O_t+1 O_t+2 ... O_T | q_t = S_i , hmm)\n",
    "            # Initialize beta\n",
    "            beta = self._backward(observations)\n",
    "     \n",
    "            xi = np.zeros((n_states,n_states,n_samples-1))\n",
    "            for t in range(n_samples-1):\n",
    "                denom = np.dot(np.dot(alpha[:,t].T, self.A) * self.B[:,observations[t+1]].T, beta[:,t+1])\n",
    "                for i in range(n_states):\n",
    "                    numer = alpha[i,t] * self.A[i,:] * self.B[:,observations[t+1]].T * beta[:,t+1].T\n",
    "                    xi[i,:,t] = numer / (denom+0.00001)\n",
    "     \n",
    "            # gamma_t(i) = P(q_t = S_i | O, hmm)\n",
    "            gamma = np.sum(xi,axis=1)\n",
    "            # Need final gamma element for new B\n",
    "            prod =  (alpha[:,n_samples-1] * beta[:,n_samples-1]).reshape((-1,1))\n",
    "            gamma = np.hstack((gamma,  prod / (np.sum(prod)+0.00001))) #append one more to gamma!!!\n",
    "     \n",
    "            newpi = gamma[:,0]\n",
    "            newA = np.sum(xi,2) / np.sum(gamma[:,:-1],axis=1).reshape((-1,1))\n",
    "            newB = np.copy(self.B)\n",
    "     \n",
    "            num_levels = self.B.shape[1]\n",
    "            sumgamma = np.sum(gamma,axis=1)\n",
    "            for lev in range(num_levels):\n",
    "                mask = observations == lev\n",
    "                newB[:,lev] = np.sum(gamma[:,mask],axis=1) / sumgamma\n",
    "     \n",
    "            if np.max(abs(self.pi - newpi)) < criterion and \\\n",
    "                            np.max(abs(self.A - newA)) < criterion and \\\n",
    "                            np.max(abs(self.B - newB)) < criterion:\n",
    "                done = 1\n",
    "     \n",
    "            self.A[:],self.B[:],self.pi[:] = newA,newB,newpi\n",
    "    \n",
    "    def state_path(self, obs_seq):\n",
    "        \"\"\"\n",
    "        Returns\n",
    "        -------\n",
    "        V[last_state, -1] : float\n",
    "            Probability of the optimal state path\n",
    "        path : list(int)\n",
    "            Optimal state path for the observation sequence\n",
    "        \"\"\"\n",
    "        V, prev = self.viterbi(obs_seq)\n",
    "\n",
    "        # Build state path with greatest probability\n",
    "        last_state = np.argmax(V[:,-1])\n",
    "        path = list(self.build_viterbi_path(prev, last_state))\n",
    "\n",
    "        return V[last_state,-1], reversed(path)\n",
    "    \n",
    "    def build_viterbi_path(self, prev, last_state):\n",
    "        \"\"\"Returns a state path ending in last_state in reverse order.\"\"\"\n",
    "        T = len(prev)\n",
    "        yield(last_state)\n",
    "        for i in range(T-1, -1, -1):\n",
    "            yield(prev[i, last_state])\n",
    "            last_state = prev[i, last_state]\n",
    "        \n",
    "    def viterbi(self, obs_seq):\n",
    "        \"\"\"\n",
    "        Returns\n",
    "        -------\n",
    "        V : numpy.ndarray\n",
    "            V [s][t] = Maximum probability of an observation sequence ending\n",
    "                       at time 't' with final state 's'\n",
    "        prev : numpy.ndarray\n",
    "            Contains a pointer to the previous state at t-1 that maximizes\n",
    "            V[state][t]\n",
    "        \"\"\"\n",
    "        N = self.A.shape[0]\n",
    "        T = len(obs_seq)\n",
    "        prev = np.zeros((T - 1, N), dtype=int)\n",
    "     \n",
    "        # DP matrix containing max likelihood of state at a given time\n",
    "        V = np.zeros((N, T))\n",
    "        V[:,0] = self.pi * self.B[:,obs_seq[0]]\n",
    "     \n",
    "        for t in range(1, T):\n",
    "            for n in range(N):\n",
    "                seq_probs = V[:,t-1] * self.A[:,n] * self.B[n, obs_seq[t]]\n",
    "                prev[t-1,n] = np.argmax(seq_probs)\n",
    "                V[n,t] = np.max(seq_probs)\n",
    "     \n",
    "        return V, prev"
   ]
  },
  {
   "cell_type": "code",
   "execution_count": 30,
   "metadata": {
    "collapsed": true
   },
   "outputs": [
    {
     "name": "stdout",
     "output_type": "stream",
     "text": [
      "0.2\n"
     ]
    }
   ],
   "source": [
    "guess=HMM(A,B,pi)\n",
    "guess.bw_unsuper(o)\n",
    "states_out = guess.state_path(o)[1]\n",
    "p = 0.0\n",
    "for i in s:\n",
    "    if next(states_out) == i: p += 1\n",
    " \n",
    "print(p/10)\n",
    "    \n"
   ]
  },
  {
   "cell_type": "code",
   "execution_count": null,
   "metadata": {},
   "outputs": [],
   "source": []
  }
 ],
 "metadata": {
  "kernelspec": {
   "display_name": "Python 2",
   "language": "python",
   "name": "python2"
  },
  "language_info": {
   "codemirror_mode": {
    "name": "ipython",
    "version": 2
   },
   "file_extension": ".py",
   "mimetype": "text/x-python",
   "name": "python",
   "nbconvert_exporter": "python",
   "pygments_lexer": "ipython2",
   "version": "2.7.6"
  }
 },
 "nbformat": 4,
 "nbformat_minor": 0
}
